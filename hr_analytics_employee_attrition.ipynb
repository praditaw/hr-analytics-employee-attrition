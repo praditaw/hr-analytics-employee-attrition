{
 "cells": [
  {
   "cell_type": "markdown",
   "id": "6e637db0",
   "metadata": {},
   "source": [
    "# **Analysis of Employee Attrition Factors to Develop Effective Retention Strategies**\n",
    "---"
   ]
  },
  {
   "cell_type": "markdown",
   "id": "2bd7b49d",
   "metadata": {},
   "source": [
    "## **1. Introduction**"
   ]
  },
  {
   "cell_type": "markdown",
   "id": "8c3bbdc8",
   "metadata": {},
   "source": [
    "### **1.1 Background & Business Context**\n",
    "In today’s competitive job market, keeping employees has become an important part of long-term business success. When an employee leaves, or attrition, it’s more than just filling an open role, it can be a costly and disruptive loss. <br>\n",
    "According to industry research, the cost to hire and train a replacement is significant. Studies from organizations like Gallup show it can cost anywhere from half to two times that employee's annual salary (Gallup, 2019). This means that for an employee earning $60,000 a year, the replacement cost could be between $30,000 and $120,000. \n",
    "\n",
    "But the impact goes beyond money. A high attrition rate creates serious challenges for a company in several ways:\n",
    "* **Financial Impact**: Constantly spending on recruitment, training new employees, and sometimes severance packages reduces overall profitability.\n",
    "* **Operational Impact**: When experienced employees leave, valuable knowledge is lost. The remaining team often faces lower productivity and heavier workloads, which can lead to even more people leaving.\n",
    "* **Strategic Impact**: High turnover can hurt the company’s reputation as an employer, making it harder to attract and keep top talent in the future.\n",
    "\n",
    "This project looks at HR data from a fictional company to find out why employees leave. By using data insights, the company can move from a reactive approach (replacing employees after they leave) to a proactive one (building a workplace where employees want to stay and grow).\n",
    "\n",
    "**References**\n",
    "* Gallup, Inc. (2019). This Fixable Problem Costs U.S. Businesses $1 Trillion. Gallup. Retrieved from https://www.gallup.com/workplace/247391/fixable-problem-costs-businesses-trillion.aspx\n",
    "\n",
    "* Society for Human Resource Management (SHRM). Talent Acquisition: A Guide to Understanding and Managing Employee Turnover. SHRM. Retrieved from https://www.shrm.org/content/dam/en/shrm/topics-tools/news/Retaining-Talent.pdf"
   ]
  },
  {
   "cell_type": "markdown",
   "id": "b2facc1b",
   "metadata": {},
   "source": [
    "### **1.2 Problem Statement**\n",
    "\n",
    "The company is facing a concerning attrition rate, but its exact causes have not been clearly identified. Without a deep understanding of the driving factors, efforts to reduce attrition are ineffective and waste resources.\n",
    "\n",
    "Therefore, this analysis aims to answer the following key questions:\n",
    "1. What are the main driving factors that cause an employee to leave the company?\n",
    "2. What is the common profile or characteristics of employees who resign most frequently (e.g., based on job role, department, tenure, or demographics)?\n",
    "3. Are there hidden patterns in the data that can help the company identify employees at high risk of attrition in the future?"
   ]
  },
  {
   "cell_type": "markdown",
   "id": "fe0f3bb0",
   "metadata": {},
   "source": [
    "### **1.3 Dataset Description**\n",
    "\n",
    "This analysis uses the public dataset **\"IBM HR Analytics Employee Attrition & Performance\"**. This is a fictional dataset created by IBM data scientists and is often used as a case study for HR-related problems.\n",
    "* **Source**: IBM\n",
    "* **Data Volume**: 1,470 rows, where each row represents a unique employee.\n",
    "* **Number of Features**: 35 columns or attributes covering a wide range of information about the employees.\n",
    "\n",
    "This dataset is ideal for this project as it provides a diverse set of features, from demographic data to factors related to job satisfaction and engagement."
   ]
  },
  {
   "cell_type": "markdown",
   "id": "dbfa93eb",
   "metadata": {},
   "source": [
    "## **2. Data Loading**\n",
    "---\n",
    "This is the first technical step of the project. The goal here is to load the raw data, take a first look to understand its structure, and check its overall quality before moving on to a deeper analysis."
   ]
  },
  {
   "cell_type": "code",
   "execution_count": 1,
   "id": "f975bae7",
   "metadata": {},
   "outputs": [],
   "source": [
    "# Import necessary libraries\n",
    "import pandas as pd\n",
    "import numpy as np\n",
    "import matplotlib.pyplot as plt\n",
    "import seaborn as sns"
   ]
  },
  {
   "cell_type": "code",
   "execution_count": 2,
   "id": "a7e081a7",
   "metadata": {},
   "outputs": [
    {
     "data": {
      "text/html": [
       "<div>\n",
       "<style scoped>\n",
       "    .dataframe tbody tr th:only-of-type {\n",
       "        vertical-align: middle;\n",
       "    }\n",
       "\n",
       "    .dataframe tbody tr th {\n",
       "        vertical-align: top;\n",
       "    }\n",
       "\n",
       "    .dataframe thead th {\n",
       "        text-align: right;\n",
       "    }\n",
       "</style>\n",
       "<table border=\"1\" class=\"dataframe\">\n",
       "  <thead>\n",
       "    <tr style=\"text-align: right;\">\n",
       "      <th></th>\n",
       "      <th>Age</th>\n",
       "      <th>Attrition</th>\n",
       "      <th>BusinessTravel</th>\n",
       "      <th>DailyRate</th>\n",
       "      <th>Department</th>\n",
       "      <th>DistanceFromHome</th>\n",
       "      <th>Education</th>\n",
       "      <th>EducationField</th>\n",
       "      <th>EmployeeCount</th>\n",
       "      <th>EmployeeNumber</th>\n",
       "      <th>...</th>\n",
       "      <th>RelationshipSatisfaction</th>\n",
       "      <th>StandardHours</th>\n",
       "      <th>StockOptionLevel</th>\n",
       "      <th>TotalWorkingYears</th>\n",
       "      <th>TrainingTimesLastYear</th>\n",
       "      <th>WorkLifeBalance</th>\n",
       "      <th>YearsAtCompany</th>\n",
       "      <th>YearsInCurrentRole</th>\n",
       "      <th>YearsSinceLastPromotion</th>\n",
       "      <th>YearsWithCurrManager</th>\n",
       "    </tr>\n",
       "  </thead>\n",
       "  <tbody>\n",
       "    <tr>\n",
       "      <th>0</th>\n",
       "      <td>41</td>\n",
       "      <td>Yes</td>\n",
       "      <td>Travel_Rarely</td>\n",
       "      <td>1102</td>\n",
       "      <td>Sales</td>\n",
       "      <td>1</td>\n",
       "      <td>2</td>\n",
       "      <td>Life Sciences</td>\n",
       "      <td>1</td>\n",
       "      <td>1</td>\n",
       "      <td>...</td>\n",
       "      <td>1</td>\n",
       "      <td>80</td>\n",
       "      <td>0</td>\n",
       "      <td>8</td>\n",
       "      <td>0</td>\n",
       "      <td>1</td>\n",
       "      <td>6</td>\n",
       "      <td>4</td>\n",
       "      <td>0</td>\n",
       "      <td>5</td>\n",
       "    </tr>\n",
       "    <tr>\n",
       "      <th>1</th>\n",
       "      <td>49</td>\n",
       "      <td>No</td>\n",
       "      <td>Travel_Frequently</td>\n",
       "      <td>279</td>\n",
       "      <td>Research &amp; Development</td>\n",
       "      <td>8</td>\n",
       "      <td>1</td>\n",
       "      <td>Life Sciences</td>\n",
       "      <td>1</td>\n",
       "      <td>2</td>\n",
       "      <td>...</td>\n",
       "      <td>4</td>\n",
       "      <td>80</td>\n",
       "      <td>1</td>\n",
       "      <td>10</td>\n",
       "      <td>3</td>\n",
       "      <td>3</td>\n",
       "      <td>10</td>\n",
       "      <td>7</td>\n",
       "      <td>1</td>\n",
       "      <td>7</td>\n",
       "    </tr>\n",
       "    <tr>\n",
       "      <th>2</th>\n",
       "      <td>37</td>\n",
       "      <td>Yes</td>\n",
       "      <td>Travel_Rarely</td>\n",
       "      <td>1373</td>\n",
       "      <td>Research &amp; Development</td>\n",
       "      <td>2</td>\n",
       "      <td>2</td>\n",
       "      <td>Other</td>\n",
       "      <td>1</td>\n",
       "      <td>4</td>\n",
       "      <td>...</td>\n",
       "      <td>2</td>\n",
       "      <td>80</td>\n",
       "      <td>0</td>\n",
       "      <td>7</td>\n",
       "      <td>3</td>\n",
       "      <td>3</td>\n",
       "      <td>0</td>\n",
       "      <td>0</td>\n",
       "      <td>0</td>\n",
       "      <td>0</td>\n",
       "    </tr>\n",
       "    <tr>\n",
       "      <th>3</th>\n",
       "      <td>33</td>\n",
       "      <td>No</td>\n",
       "      <td>Travel_Frequently</td>\n",
       "      <td>1392</td>\n",
       "      <td>Research &amp; Development</td>\n",
       "      <td>3</td>\n",
       "      <td>4</td>\n",
       "      <td>Life Sciences</td>\n",
       "      <td>1</td>\n",
       "      <td>5</td>\n",
       "      <td>...</td>\n",
       "      <td>3</td>\n",
       "      <td>80</td>\n",
       "      <td>0</td>\n",
       "      <td>8</td>\n",
       "      <td>3</td>\n",
       "      <td>3</td>\n",
       "      <td>8</td>\n",
       "      <td>7</td>\n",
       "      <td>3</td>\n",
       "      <td>0</td>\n",
       "    </tr>\n",
       "    <tr>\n",
       "      <th>4</th>\n",
       "      <td>27</td>\n",
       "      <td>No</td>\n",
       "      <td>Travel_Rarely</td>\n",
       "      <td>591</td>\n",
       "      <td>Research &amp; Development</td>\n",
       "      <td>2</td>\n",
       "      <td>1</td>\n",
       "      <td>Medical</td>\n",
       "      <td>1</td>\n",
       "      <td>7</td>\n",
       "      <td>...</td>\n",
       "      <td>4</td>\n",
       "      <td>80</td>\n",
       "      <td>1</td>\n",
       "      <td>6</td>\n",
       "      <td>3</td>\n",
       "      <td>3</td>\n",
       "      <td>2</td>\n",
       "      <td>2</td>\n",
       "      <td>2</td>\n",
       "      <td>2</td>\n",
       "    </tr>\n",
       "  </tbody>\n",
       "</table>\n",
       "<p>5 rows × 35 columns</p>\n",
       "</div>"
      ],
      "text/plain": [
       "   Age Attrition     BusinessTravel  DailyRate              Department  \\\n",
       "0   41       Yes      Travel_Rarely       1102                   Sales   \n",
       "1   49        No  Travel_Frequently        279  Research & Development   \n",
       "2   37       Yes      Travel_Rarely       1373  Research & Development   \n",
       "3   33        No  Travel_Frequently       1392  Research & Development   \n",
       "4   27        No      Travel_Rarely        591  Research & Development   \n",
       "\n",
       "   DistanceFromHome  Education EducationField  EmployeeCount  EmployeeNumber  \\\n",
       "0                 1          2  Life Sciences              1               1   \n",
       "1                 8          1  Life Sciences              1               2   \n",
       "2                 2          2          Other              1               4   \n",
       "3                 3          4  Life Sciences              1               5   \n",
       "4                 2          1        Medical              1               7   \n",
       "\n",
       "   ...  RelationshipSatisfaction StandardHours  StockOptionLevel  \\\n",
       "0  ...                         1            80                 0   \n",
       "1  ...                         4            80                 1   \n",
       "2  ...                         2            80                 0   \n",
       "3  ...                         3            80                 0   \n",
       "4  ...                         4            80                 1   \n",
       "\n",
       "   TotalWorkingYears  TrainingTimesLastYear WorkLifeBalance  YearsAtCompany  \\\n",
       "0                  8                      0               1               6   \n",
       "1                 10                      3               3              10   \n",
       "2                  7                      3               3               0   \n",
       "3                  8                      3               3               8   \n",
       "4                  6                      3               3               2   \n",
       "\n",
       "  YearsInCurrentRole  YearsSinceLastPromotion  YearsWithCurrManager  \n",
       "0                  4                        0                     5  \n",
       "1                  7                        1                     7  \n",
       "2                  0                        0                     0  \n",
       "3                  7                        3                     0  \n",
       "4                  2                        2                     2  \n",
       "\n",
       "[5 rows x 35 columns]"
      ]
     },
     "execution_count": 2,
     "metadata": {},
     "output_type": "execute_result"
    }
   ],
   "source": [
    "# Load the dataset from a CSV file into a DataFrame named 'df'\n",
    "df = pd.read_csv('WA_Fn-UseC_-HR-Employee-Attrition.csv')\n",
    "\n",
    "# Display the first 5 rows to ensure the data was loaded successfully\n",
    "df.head()"
   ]
  },
  {
   "cell_type": "markdown",
   "id": "b8f2a415",
   "metadata": {},
   "source": [
    "The display of the first five rows from `df.head()` confirms that columns like `Age`, `Attrition`, and `BusinessTravel` have been read correctly. This provides an initial glimpse into the features available for analysis."
   ]
  },
  {
   "cell_type": "code",
   "execution_count": 3,
   "id": "b491a272",
   "metadata": {},
   "outputs": [
    {
     "name": "stdout",
     "output_type": "stream",
     "text": [
      "<class 'pandas.core.frame.DataFrame'>\n",
      "RangeIndex: 1470 entries, 0 to 1469\n",
      "Data columns (total 35 columns):\n",
      " #   Column                    Non-Null Count  Dtype \n",
      "---  ------                    --------------  ----- \n",
      " 0   Age                       1470 non-null   int64 \n",
      " 1   Attrition                 1470 non-null   object\n",
      " 2   BusinessTravel            1470 non-null   object\n",
      " 3   DailyRate                 1470 non-null   int64 \n",
      " 4   Department                1470 non-null   object\n",
      " 5   DistanceFromHome          1470 non-null   int64 \n",
      " 6   Education                 1470 non-null   int64 \n",
      " 7   EducationField            1470 non-null   object\n",
      " 8   EmployeeCount             1470 non-null   int64 \n",
      " 9   EmployeeNumber            1470 non-null   int64 \n",
      " 10  EnvironmentSatisfaction   1470 non-null   int64 \n",
      " 11  Gender                    1470 non-null   object\n",
      " 12  HourlyRate                1470 non-null   int64 \n",
      " 13  JobInvolvement            1470 non-null   int64 \n",
      " 14  JobLevel                  1470 non-null   int64 \n",
      " 15  JobRole                   1470 non-null   object\n",
      " 16  JobSatisfaction           1470 non-null   int64 \n",
      " 17  MaritalStatus             1470 non-null   object\n",
      " 18  MonthlyIncome             1470 non-null   int64 \n",
      " 19  MonthlyRate               1470 non-null   int64 \n",
      " 20  NumCompaniesWorked        1470 non-null   int64 \n",
      " 21  Over18                    1470 non-null   object\n",
      " 22  OverTime                  1470 non-null   object\n",
      " 23  PercentSalaryHike         1470 non-null   int64 \n",
      " 24  PerformanceRating         1470 non-null   int64 \n",
      " 25  RelationshipSatisfaction  1470 non-null   int64 \n",
      " 26  StandardHours             1470 non-null   int64 \n",
      " 27  StockOptionLevel          1470 non-null   int64 \n",
      " 28  TotalWorkingYears         1470 non-null   int64 \n",
      " 29  TrainingTimesLastYear     1470 non-null   int64 \n",
      " 30  WorkLifeBalance           1470 non-null   int64 \n",
      " 31  YearsAtCompany            1470 non-null   int64 \n",
      " 32  YearsInCurrentRole        1470 non-null   int64 \n",
      " 33  YearsSinceLastPromotion   1470 non-null   int64 \n",
      " 34  YearsWithCurrManager      1470 non-null   int64 \n",
      "dtypes: int64(26), object(9)\n",
      "memory usage: 402.1+ KB\n"
     ]
    }
   ],
   "source": [
    "# Display a concise summary of the data table\n",
    "df.info()"
   ]
  },
  {
   "cell_type": "markdown",
   "id": "24d876a8",
   "metadata": {},
   "source": [
    "The summary provides several crucial details about the data:\n",
    "* **Data Size**: The table contains 1,470 rows, representing 1,470 employees, and 35 columns, or features.\n",
    "* **Data Quality**: All columns show 1,470 \"non-null\" entries. This is an important finding, as it means there are no missing values in the dataset.\n",
    "* **Data Types**: The columns are mostly assigned the correct data types, such as numbers (int64) and text (object)."
   ]
  },
  {
   "cell_type": "markdown",
   "id": "f175cc72",
   "metadata": {},
   "source": [
    "## **3. Data Cleaning & Preparation**\n",
    "---\n",
    "After loading the data, the next essential step is cleaning it. This process involves checking for common issues like missing data or duplicates and removing any irrelevant information. The goal is to ensure the dataset is accurate, consistent, and ready for analysis."
   ]
  },
  {
   "cell_type": "markdown",
   "id": "d18e338f",
   "metadata": {},
   "source": [
    "### **3.1. Checking for Missing Values**\n",
    "First, an explicit check for any missing values was performed across all columns."
   ]
  },
  {
   "cell_type": "code",
   "execution_count": 4,
   "id": "7414efa1",
   "metadata": {},
   "outputs": [
    {
     "data": {
      "text/plain": [
       "Age                         0\n",
       "Attrition                   0\n",
       "BusinessTravel              0\n",
       "DailyRate                   0\n",
       "Department                  0\n",
       "DistanceFromHome            0\n",
       "Education                   0\n",
       "EducationField              0\n",
       "EmployeeCount               0\n",
       "EmployeeNumber              0\n",
       "EnvironmentSatisfaction     0\n",
       "Gender                      0\n",
       "HourlyRate                  0\n",
       "JobInvolvement              0\n",
       "JobLevel                    0\n",
       "JobRole                     0\n",
       "JobSatisfaction             0\n",
       "MaritalStatus               0\n",
       "MonthlyIncome               0\n",
       "MonthlyRate                 0\n",
       "NumCompaniesWorked          0\n",
       "Over18                      0\n",
       "OverTime                    0\n",
       "PercentSalaryHike           0\n",
       "PerformanceRating           0\n",
       "RelationshipSatisfaction    0\n",
       "StandardHours               0\n",
       "StockOptionLevel            0\n",
       "TotalWorkingYears           0\n",
       "TrainingTimesLastYear       0\n",
       "WorkLifeBalance             0\n",
       "YearsAtCompany              0\n",
       "YearsInCurrentRole          0\n",
       "YearsSinceLastPromotion     0\n",
       "YearsWithCurrManager        0\n",
       "dtype: int64"
      ]
     },
     "execution_count": 4,
     "metadata": {},
     "output_type": "execute_result"
    }
   ],
   "source": [
    "# Check for missing values in each column\n",
    "df.isnull().sum()"
   ]
  },
  {
   "cell_type": "markdown",
   "id": "c9ea8e3a",
   "metadata": {},
   "source": [
    "As suggested by the initial `.info()` summary, this check confirms that there are zero missing values in the dataset. As it means the data is complete and doesn't require any imputation or removal of rows due to missing information."
   ]
  },
  {
   "cell_type": "markdown",
   "id": "731b6cff",
   "metadata": {},
   "source": [
    "### **3.2. Checking for Duplicate Rows**\n",
    "Next, a check was run to see if there were any duplicate rows. This is important to ensure that every single row represents a unique employee record."
   ]
  },
  {
   "cell_type": "code",
   "execution_count": 5,
   "id": "babfc4b7",
   "metadata": {},
   "outputs": [
    {
     "data": {
      "text/plain": [
       "0"
      ]
     },
     "execution_count": 5,
     "metadata": {},
     "output_type": "execute_result"
    }
   ],
   "source": [
    "# Check for any duplicate rows in the dataset\n",
    "df.duplicated().sum()"
   ]
  },
  {
   "cell_type": "markdown",
   "id": "7f19bfc3",
   "metadata": {},
   "source": [
    "The result of this check is zero, which confirms that there are no duplicate entries in the dataset. Every record is unique."
   ]
  },
  {
   "cell_type": "markdown",
   "id": "9158729a",
   "metadata": {},
   "source": [
    "### **3.3. Verifying Data Types and Column Name Format**"
   ]
  },
  {
   "cell_type": "code",
   "execution_count": 8,
   "id": "03b1e00a",
   "metadata": {},
   "outputs": [
    {
     "name": "stdout",
     "output_type": "stream",
     "text": [
      "<class 'pandas.core.frame.DataFrame'>\n",
      "RangeIndex: 1470 entries, 0 to 1469\n",
      "Data columns (total 35 columns):\n",
      " #   Column                    Non-Null Count  Dtype \n",
      "---  ------                    --------------  ----- \n",
      " 0   Age                       1470 non-null   int64 \n",
      " 1   Attrition                 1470 non-null   object\n",
      " 2   BusinessTravel            1470 non-null   object\n",
      " 3   DailyRate                 1470 non-null   int64 \n",
      " 4   Department                1470 non-null   object\n",
      " 5   DistanceFromHome          1470 non-null   int64 \n",
      " 6   Education                 1470 non-null   int64 \n",
      " 7   EducationField            1470 non-null   object\n",
      " 8   EmployeeCount             1470 non-null   int64 \n",
      " 9   EmployeeNumber            1470 non-null   int64 \n",
      " 10  EnvironmentSatisfaction   1470 non-null   int64 \n",
      " 11  Gender                    1470 non-null   object\n",
      " 12  HourlyRate                1470 non-null   int64 \n",
      " 13  JobInvolvement            1470 non-null   int64 \n",
      " 14  JobLevel                  1470 non-null   int64 \n",
      " 15  JobRole                   1470 non-null   object\n",
      " 16  JobSatisfaction           1470 non-null   int64 \n",
      " 17  MaritalStatus             1470 non-null   object\n",
      " 18  MonthlyIncome             1470 non-null   int64 \n",
      " 19  MonthlyRate               1470 non-null   int64 \n",
      " 20  NumCompaniesWorked        1470 non-null   int64 \n",
      " 21  Over18                    1470 non-null   object\n",
      " 22  OverTime                  1470 non-null   object\n",
      " 23  PercentSalaryHike         1470 non-null   int64 \n",
      " 24  PerformanceRating         1470 non-null   int64 \n",
      " 25  RelationshipSatisfaction  1470 non-null   int64 \n",
      " 26  StandardHours             1470 non-null   int64 \n",
      " 27  StockOptionLevel          1470 non-null   int64 \n",
      " 28  TotalWorkingYears         1470 non-null   int64 \n",
      " 29  TrainingTimesLastYear     1470 non-null   int64 \n",
      " 30  WorkLifeBalance           1470 non-null   int64 \n",
      " 31  YearsAtCompany            1470 non-null   int64 \n",
      " 32  YearsInCurrentRole        1470 non-null   int64 \n",
      " 33  YearsSinceLastPromotion   1470 non-null   int64 \n",
      " 34  YearsWithCurrManager      1470 non-null   int64 \n",
      "dtypes: int64(26), object(9)\n",
      "memory usage: 402.1+ KB\n"
     ]
    }
   ],
   "source": [
    "df.info()"
   ]
  },
  {
   "cell_type": "markdown",
   "id": "8166b043",
   "metadata": {},
   "source": [
    "Based on the initial` df.info()` summary and the inspection above, the data types are appropriate for each column, and the column names are clean and consistent. No changes are needed for either."
   ]
  },
  {
   "cell_type": "markdown",
   "id": "61a1668f",
   "metadata": {},
   "source": [
    "### **3.4. Exploring Categorical Data and Unique Values**"
   ]
  },
  {
   "cell_type": "markdown",
   "id": "a4ffeb65",
   "metadata": {},
   "source": [
    "Next, the categorical columns were investigated to understand their contents and identify any columns that might be irrelevant.\n",
    "\n",
    "First, a high-level look at the number of unique values in each column helps to quickly spot columns with very low or very high variation."
   ]
  },
  {
   "cell_type": "code",
   "execution_count": 10,
   "id": "aa91ad09",
   "metadata": {},
   "outputs": [
    {
     "name": "stdout",
     "output_type": "stream",
     "text": [
      "Unique value counts for each column:\n"
     ]
    },
    {
     "data": {
      "text/plain": [
       "Age                           43\n",
       "Attrition                      2\n",
       "BusinessTravel                 3\n",
       "DailyRate                    886\n",
       "Department                     3\n",
       "DistanceFromHome              29\n",
       "Education                      5\n",
       "EducationField                 6\n",
       "EmployeeCount                  1\n",
       "EmployeeNumber              1470\n",
       "EnvironmentSatisfaction        4\n",
       "Gender                         2\n",
       "HourlyRate                    71\n",
       "JobInvolvement                 4\n",
       "JobLevel                       5\n",
       "JobRole                        9\n",
       "JobSatisfaction                4\n",
       "MaritalStatus                  3\n",
       "MonthlyIncome               1349\n",
       "MonthlyRate                 1427\n",
       "NumCompaniesWorked            10\n",
       "Over18                         1\n",
       "OverTime                       2\n",
       "PercentSalaryHike             15\n",
       "PerformanceRating              2\n",
       "RelationshipSatisfaction       4\n",
       "StandardHours                  1\n",
       "StockOptionLevel               4\n",
       "TotalWorkingYears             40\n",
       "TrainingTimesLastYear          7\n",
       "WorkLifeBalance                4\n",
       "YearsAtCompany                37\n",
       "YearsInCurrentRole            19\n",
       "YearsSinceLastPromotion       16\n",
       "YearsWithCurrManager          18\n",
       "dtype: int64"
      ]
     },
     "execution_count": 10,
     "metadata": {},
     "output_type": "execute_result"
    }
   ],
   "source": [
    "# Display the number of unique values for each column\n",
    "print(\"Unique value counts for each column:\")\n",
    "df.nunique()"
   ]
  },
  {
   "cell_type": "markdown",
   "id": "37483149",
   "metadata": {},
   "source": [
    "After seeing the count, the next step is to inspect the actual values within each categorical column. This is useful for a final quality check and to understand the specific categories within each feature."
   ]
  },
  {
   "cell_type": "code",
   "execution_count": 12,
   "id": "d37ebd6b",
   "metadata": {},
   "outputs": [
    {
     "name": "stdout",
     "output_type": "stream",
     "text": [
      "Unique values in column Attrition are ['Yes' 'No']\n",
      "--> Number of unique values in column Attrition is 2\n",
      "\n",
      "Unique values in column BusinessTravel are ['Travel_Rarely' 'Travel_Frequently' 'Non-Travel']\n",
      "--> Number of unique values in column BusinessTravel is 3\n",
      "\n",
      "Unique values in column Department are ['Sales' 'Research & Development' 'Human Resources']\n",
      "--> Number of unique values in column Department is 3\n",
      "\n",
      "Unique values in column EducationField are ['Life Sciences' 'Other' 'Medical' 'Marketing' 'Technical Degree'\n",
      " 'Human Resources']\n",
      "--> Number of unique values in column EducationField is 6\n",
      "\n",
      "Unique values in column Gender are ['Female' 'Male']\n",
      "--> Number of unique values in column Gender is 2\n",
      "\n",
      "Unique values in column JobRole are ['Sales Executive' 'Research Scientist' 'Laboratory Technician'\n",
      " 'Manufacturing Director' 'Healthcare Representative' 'Manager'\n",
      " 'Sales Representative' 'Research Director' 'Human Resources']\n",
      "--> Number of unique values in column JobRole is 9\n",
      "\n",
      "Unique values in column MaritalStatus are ['Single' 'Married' 'Divorced']\n",
      "--> Number of unique values in column MaritalStatus is 3\n",
      "\n",
      "Unique values in column Over18 are ['Y']\n",
      "--> Number of unique values in column Over18 is 1\n",
      "\n",
      "Unique values in column OverTime are ['Yes' 'No']\n",
      "--> Number of unique values in column OverTime is 2\n",
      "\n"
     ]
    }
   ],
   "source": [
    "# List unique values from each categorical column\n",
    "# Select all columns with data type 'object'\n",
    "categorical_columns = df.select_dtypes(include=['object']).columns\n",
    "\n",
    "# Display unique values from each categorical column\n",
    "for col in categorical_columns:\n",
    "    print(f\"Unique values in column {col} are {df[col].unique()}\")\n",
    "    # Display the number of unique values in each categorical column\n",
    "    print(f\"--> Number of unique values in column {col} is {df[col].nunique()}\")\n",
    "    print(\"\")\n"
   ]
  },
  {
   "cell_type": "markdown",
   "id": "71d60104",
   "metadata": {},
   "source": [
    "Looking closely at each categorical column serves two main purposes. \n",
    "*  First, it acts as a sanity check, confirming that the values are as expected (e.g., `Attrition` only contains 'Yes' and 'No'). \n",
    "* Second, it provides a clear view of the different segments available for analysis, such as the various job roles and departments. This step also visually confirms the findings from the .nunique() check, such as the column `Over18` containing only the value 'Y'."
   ]
  },
  {
   "cell_type": "markdown",
   "id": "4e740eba",
   "metadata": {},
   "source": [
    "### **3.5 Removing Irrelevant Columns**\n",
    "\n",
    "The final cleaning step is to identify and remove columns that do not provide any useful information for predicting or understanding employee attrition.\n",
    "Based on the unique value analysis, the uninformative columns were removed."
   ]
  },
  {
   "cell_type": "code",
   "execution_count": 13,
   "id": "d3d2860f",
   "metadata": {},
   "outputs": [
    {
     "name": "stdout",
     "output_type": "stream",
     "text": [
      "Original dataset shape: (1470, 35)\n",
      "Cleaned dataset shape: (1470, 31)\n"
     ]
    }
   ],
   "source": [
    "# Drop columns that are not useful for the analysis\n",
    "df_cleaned = df.drop(columns=['EmployeeCount', 'StandardHours', 'Over18', 'EmployeeNumber'])\n",
    "\n",
    "# Display the new dimensions of the dataset to confirm removal\n",
    "print(\"Original dataset shape:\", df.shape)\n",
    "print(\"Cleaned dataset shape:\", df_cleaned.shape)"
   ]
  },
  {
   "cell_type": "markdown",
   "id": "8a9f9bc4",
   "metadata": {},
   "source": [
    "Four columns were removed from the dataset:\n",
    "* `EmployeeCount`, `StandardHours`, and `Over18` were removed because they contain the exact same value for every employee. A column with no variation cannot help explain differences in attrition.\n",
    "* `EmployeeNumber` was removed because it is just a unique identifier for each employee and has no predictive power.\n",
    "\n",
    "After cleaning, the dataset now has **1,470 rows and 31 columns**."
   ]
  },
  {
   "cell_type": "markdown",
   "id": "0577333c",
   "metadata": {},
   "source": [
    "## **4. Exploratory Data Analysis (EDA)**\n",
    "---\n",
    "\n",
    "With a clean dataset, the focus now shifts to uncovering the story hidden within the data. The goal of this EDA is to visually explore the relationships between different employee attributes and attrition. This process will help to identify the key factors that contribute to employees leaving the company."
   ]
  },
  {
   "cell_type": "code",
   "execution_count": 16,
   "id": "ca62a94d",
   "metadata": {},
   "outputs": [],
   "source": [
    "# Initial setup\n",
    "# Set a theme for the plots\n",
    "sns.set_theme(style=\"whitegrid\")"
   ]
  },
  {
   "cell_type": "markdown",
   "id": "fae1bf9a",
   "metadata": {},
   "source": [
    "### **Analysis 4.1: What is the Overall Employee Attrition Proportion?**\n",
    "\n",
    "The analysis starts with the most fundamental question to understand the scale of the problem."
   ]
  },
  {
   "cell_type": "code",
   "execution_count": 23,
   "id": "7ab82c31",
   "metadata": {},
   "outputs": [
    {
     "data": {
      "image/png": "[encoded data removed]",
      "text/plain": [
       "<Figure size 1000x1000 with 1 Axes>"
      ]
     },
     "metadata": {},
     "output_type": "display_data"
    }
   ],
   "source": [
    "# Calculate the percentage for each category in the 'Attrition' column\n",
    "attrition_rate = df_cleaned['Attrition'].value_counts(normalize=True) * 100\n",
    "\n",
    "# Create the pie chart\n",
    "plt.figure(figsize=(10, 10))\n",
    "plt.pie(attrition_rate, labels=attrition_rate.index, autopct='%1.1f%%', startangle=140, \n",
    "colors=['#C05780', '#6C88C4'])\n",
    "plt.title('Overall Employee Attrition Rate', fontsize=20)\n",
    "plt.show()"
   ]
  },
  {
   "cell_type": "markdown",
   "id": "b3fdf677",
   "metadata": {},
   "source": [
    "**Insight:**\n",
    "\n",
    "From the overall data, about **16.1%** of employees have left the company (attrition), while the remaining **83.9%** are still active. Although the attrition number seems to be in the minority, losing 1 out of every 6 employees is a significant figure and potentially costly for any company. This confirms that the attrition problem is real and needs to be addressed."
   ]
  },
  {
   "cell_type": "markdown",
   "id": "85f49f9d",
   "metadata": {},
   "source": [
    "### **Analysis 4.2: How does working overtime affect attrition?**\n",
    "\n",
    "Investigating factors related to work-life balance is crucial. This analysis explores the link between working overtime and the likelihood of leaving."
   ]
  },
  {
   "cell_type": "code",
   "execution_count": 27,
   "id": "02a8b2cf",
   "metadata": {},
   "outputs": [
    {
     "data": {
      "image/png": "[encoded data removed]",
      "text/plain": [
       "<Figure size 1200x800 with 1 Axes>"
      ]
     },
     "metadata": {},
     "output_type": "display_data"
    }
   ],
   "source": [
    "# Create a count plot to visualize attrition by overtime status\n",
    "plt.figure(figsize=(12, 8))\n",
    "sns.countplot(data=df_cleaned, x='OverTime', hue='Attrition', palette=['#C05780', '#6C88C4'])\n",
    "plt.title('Attrition by Overtime Status', fontsize=16)\n",
    "plt.xlabel('Works Overtime')\n",
    "plt.ylabel('Number of Employees')\n",
    "plt.legend(title='Attrition')\n",
    "plt.show()"
   ]
  },
  {
   "cell_type": "markdown",
   "id": "73f2c897",
   "metadata": {},
   "source": [
    "**Insight:**\n",
    "\n",
    "The graph shows a very striking difference. **The attrition rate for employees who work overtime is significantly higher than for those who do not.** This is a strong indicator that overtime policies and workload management may be one of the main drivers for employees to seek opportunities elsewhere. Burnout appears to be a significant risk factor."
   ]
  }
 ],
 "metadata": {
  "kernelspec": {
   "display_name": "base",
   "language": "python",
   "name": "python3"
  },
  "language_info": {
   "codemirror_mode": {
    "name": "ipython",
    "version": 3
   },
   "file_extension": ".py",
   "mimetype": "text/x-python",
   "name": "python",
   "nbconvert_exporter": "python",
   "pygments_lexer": "ipython3",
   "version": "3.12.9"
  }
 },
 "nbformat": 4,
 "nbformat_minor": 5
}
